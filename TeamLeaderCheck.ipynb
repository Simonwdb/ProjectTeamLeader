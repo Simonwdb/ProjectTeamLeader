{
 "cells": [
  {
   "cell_type": "code",
   "execution_count": 9,
   "id": "fitted-encounter",
   "metadata": {},
   "outputs": [
    {
     "name": "stdout",
     "output_type": "stream",
     "text": [
      "The autoreload extension is already loaded. To reload it, use:\n",
      "  %reload_ext autoreload\n"
     ]
    }
   ],
   "source": [
    "%load_ext autoreload\n",
    "%autoreload 2"
   ]
  },
  {
   "cell_type": "code",
   "execution_count": 10,
   "id": "choice-bhutan",
   "metadata": {},
   "outputs": [],
   "source": [
    "from selenium import webdriver\n",
    "from selenium.webdriver.common.by import By\n",
    "from selenium.webdriver.common.keys import Keys\n",
    "from selenium.webdriver.support.wait import WebDriverWait\n",
    "from selenium.webdriver.support import expected_conditions as EC"
   ]
  },
  {
   "cell_type": "code",
   "execution_count": 11,
   "id": "uniform-sheffield",
   "metadata": {},
   "outputs": [],
   "source": [
    "path = \"C:\\\\Users\\\\sdboer\\\\Desktop\\\\Projecten\\\\chromedriver.exe\"\n",
    "url = \"https://app.teamleader.eu/?gotologin\"\n",
    "login = \"dmetz@sharpminds.nl\"\n",
    "password = \"Goud2vis!\""
   ]
  },
  {
   "cell_type": "code",
   "execution_count": 12,
   "id": "chief-final",
   "metadata": {},
   "outputs": [],
   "source": [
    "driver = webdriver.Chrome(path)"
   ]
  },
  {
   "cell_type": "code",
   "execution_count": 13,
   "id": "friendly-alexander",
   "metadata": {},
   "outputs": [],
   "source": [
    "login_xpath = '//*[@id=\"username\"]'\n",
    "password_xpath = '//*[@id=\"password\"]'\n",
    "login_button_xpath = '//*[@id=\"loginButton\"]'\n",
    "company_tab_xpath = '//*[@id=\"app-primary-navigation\"]/div/div/a[2]'\n",
    "search_xpath = '//*[@id=\"rightcontent\"]/div/div[3]/div[2]/div/div[1]/div/div/div/input'\n",
    "clear_xpath = '//*[@id=\"rightcontent\"]/div/div[3]/div[2]/div[1]/div[1]/div/div/div/div[2]'"
   ]
  },
  {
   "cell_type": "code",
   "execution_count": 14,
   "id": "accessory-bracelet",
   "metadata": {},
   "outputs": [],
   "source": [
    "def get_web_by_xpath(xpath):\n",
    "    return WebDriverWait(driver, 0.3).until(EC.visibility_of_element_located((By.XPATH, xpath)))\n",
    "\n",
    "def click_by_xpath(xpath):\n",
    "    get_web_by_xpath(xpath).click()\n",
    "\n",
    "def send_keys_by_xpath(xpath, message):\n",
    "    get_web_by_xpath(xpath).send_keys(message)"
   ]
  },
  {
   "cell_type": "code",
   "execution_count": 15,
   "id": "fallen-nicaragua",
   "metadata": {},
   "outputs": [],
   "source": [
    "def log_in():\n",
    "    driver.get(url)\n",
    "    send_keys_by_xpath(login_xpath, login)\n",
    "    send_keys_by_xpath(password_xpath, password)\n",
    "    click_by_xpath(login_button_xpath)"
   ]
  },
  {
   "cell_type": "code",
   "execution_count": 16,
   "id": "union-logic",
   "metadata": {},
   "outputs": [],
   "source": [
    "log_in()"
   ]
  },
  {
   "cell_type": "code",
   "execution_count": 17,
   "id": "assumed-correspondence",
   "metadata": {},
   "outputs": [],
   "source": [
    "def click_company_tab():\n",
    "    click_by_xpath(company_tab_xpath)"
   ]
  },
  {
   "cell_type": "code",
   "execution_count": 18,
   "id": "dangerous-recovery",
   "metadata": {},
   "outputs": [],
   "source": [
    "click_company_tab()"
   ]
  },
  {
   "cell_type": "code",
   "execution_count": 19,
   "id": "micro-boulder",
   "metadata": {},
   "outputs": [],
   "source": [
    "def search_company(company):\n",
    "    send_keys_by_xpath(search_xpath, company + Keys.ENTER)"
   ]
  },
  {
   "cell_type": "code",
   "execution_count": 20,
   "id": "presidential-paint",
   "metadata": {},
   "outputs": [],
   "source": [
    "search_company(\"Ecomatters\")"
   ]
  },
  {
   "cell_type": "code",
   "execution_count": 23,
   "id": "otherwise-universal",
   "metadata": {},
   "outputs": [],
   "source": [
    "search_company(Keys.CONTROL + Keys.BACKSPACE)"
   ]
  },
  {
   "cell_type": "code",
   "execution_count": null,
   "id": "caroline-arizona",
   "metadata": {},
   "outputs": [],
   "source": [
    "def edit_company() -> None:\n",
    "    edit_xpath = '//*[@id=\"company-info\"]/div[1]/div/button'\n",
    "    click_by_xpath(edit_xpath)"
   ]
  },
  {
   "cell_type": "code",
   "execution_count": null,
   "id": "european-tractor",
   "metadata": {},
   "outputs": [],
   "source": [
    "edit_company()"
   ]
  },
  {
   "cell_type": "code",
   "execution_count": null,
   "id": "thorough-canada",
   "metadata": {},
   "outputs": [],
   "source": [
    "select_tag = '//*[@id=\"multicat_picker_tags\"]/option[4]'\n",
    "click_by_xpath(select_tag)"
   ]
  },
  {
   "cell_type": "code",
   "execution_count": null,
   "id": "bacterial-baseball",
   "metadata": {},
   "outputs": [],
   "source": [
    "def is_total_amount_one() -> bool:\n",
    "    amount_xpath = '//*[@id=\"rightcontent\"]/div/div[3]/div[4]/div[1]/div/span'\n",
    "    amount = get_web_by_xpath(amount_xpath)\n",
    "    return int(amount.text[-1]) == 1"
   ]
  },
  {
   "cell_type": "code",
   "execution_count": null,
   "id": "dominican-discount",
   "metadata": {},
   "outputs": [],
   "source": [
    "is_total_amount_one()"
   ]
  },
  {
   "cell_type": "code",
   "execution_count": null,
   "id": "revised-alfred",
   "metadata": {},
   "outputs": [],
   "source": [
    "def clear_search_bar():\n",
    "    click_by_xpath(clear_xpath)"
   ]
  },
  {
   "cell_type": "code",
   "execution_count": null,
   "id": "close-stress",
   "metadata": {},
   "outputs": [],
   "source": [
    "clear_search_bar()"
   ]
  },
  {
   "cell_type": "code",
   "execution_count": null,
   "id": "classical-deputy",
   "metadata": {},
   "outputs": [],
   "source": [
    "test = get_web_by_xpath('//*[@id=\"rightcontent\"]/div/div[3]/div[4]/div[1]/div/span')\n",
    "print(\"Totaal\" in test.text)\n",
    "int(test.text[-1])"
   ]
  },
  {
   "cell_type": "code",
   "execution_count": null,
   "id": "sunrise-component",
   "metadata": {},
   "outputs": [],
   "source": [
    "click_by_xpath('//*[@id=\"crm_companies\"]/div/a')"
   ]
  },
  {
   "cell_type": "code",
   "execution_count": null,
   "id": "clinical-jamaica",
   "metadata": {},
   "outputs": [],
   "source": [
    "edit_xpath = '//*[@id=\"company-info\"]/div[1]/div/button'\n",
    "click_by_xpath(edit_xpath)"
   ]
  },
  {
   "cell_type": "code",
   "execution_count": null,
   "id": "sustainable-level",
   "metadata": {},
   "outputs": [],
   "source": [
    "tag_xpath = '//*[@id=\"multicat_picker_tags\"]/option[15]'\n",
    "click_by_xpath(tag_xpath)"
   ]
  },
  {
   "cell_type": "code",
   "execution_count": null,
   "id": "serial-honolulu",
   "metadata": {},
   "outputs": [],
   "source": [
    "XPATH_DEBTOR_NUMBER = '//*[@id=\"custom_field_409722\"]'\n",
    "send_keys_by_xpath(XPATH_DEBTOR_NUMBER, 'test')"
   ]
  },
  {
   "cell_type": "code",
   "execution_count": 24,
   "id": "choice-graphics",
   "metadata": {},
   "outputs": [],
   "source": [
    "driver.quit()"
   ]
  },
  {
   "cell_type": "code",
   "execution_count": null,
   "id": "mediterranean-invite",
   "metadata": {},
   "outputs": [],
   "source": []
  }
 ],
 "metadata": {
  "kernelspec": {
   "display_name": "Python 3",
   "language": "python",
   "name": "python3"
  },
  "language_info": {
   "codemirror_mode": {
    "name": "ipython",
    "version": 3
   },
   "file_extension": ".py",
   "mimetype": "text/x-python",
   "name": "python",
   "nbconvert_exporter": "python",
   "pygments_lexer": "ipython3",
   "version": "3.9.1"
  }
 },
 "nbformat": 4,
 "nbformat_minor": 5
}
