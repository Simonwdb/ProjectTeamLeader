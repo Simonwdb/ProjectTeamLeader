{
 "cells": [
  {
   "cell_type": "code",
   "execution_count": 1,
   "id": "interior-product",
   "metadata": {},
   "outputs": [],
   "source": [
    "%load_ext autoreload\n",
    "%autoreload 2"
   ]
  },
  {
   "cell_type": "code",
   "execution_count": 2,
   "id": "progressive-permission",
   "metadata": {},
   "outputs": [],
   "source": [
    "import pandas as pd"
   ]
  },
  {
   "cell_type": "code",
   "execution_count": 33,
   "id": "dedicated-exclusive",
   "metadata": {},
   "outputs": [],
   "source": [
    "path_file = 'Klantenbestand2.xlsx'"
   ]
  },
  {
   "cell_type": "code",
   "execution_count": 9,
   "id": "immediate-extreme",
   "metadata": {},
   "outputs": [],
   "source": [
    "# column_list = ['A:B', 'D:E']\n",
    "# column_list = column_list[0]"
   ]
  },
  {
   "cell_type": "code",
   "execution_count": 34,
   "id": "changing-mountain",
   "metadata": {},
   "outputs": [],
   "source": [
    "df = pd.read_excel(path_file)"
   ]
  },
  {
   "cell_type": "code",
   "execution_count": 35,
   "id": "contained-tobago",
   "metadata": {},
   "outputs": [
    {
     "data": {
      "text/html": [
       "<div>\n",
       "<style scoped>\n",
       "    .dataframe tbody tr th:only-of-type {\n",
       "        vertical-align: middle;\n",
       "    }\n",
       "\n",
       "    .dataframe tbody tr th {\n",
       "        vertical-align: top;\n",
       "    }\n",
       "\n",
       "    .dataframe thead th {\n",
       "        text-align: right;\n",
       "    }\n",
       "</style>\n",
       "<table border=\"1\" class=\"dataframe\">\n",
       "  <thead>\n",
       "    <tr style=\"text-align: right;\">\n",
       "      <th></th>\n",
       "      <th>Unnamed: 0</th>\n",
       "      <th>SharpMinds</th>\n",
       "      <th>Unnamed: 2</th>\n",
       "      <th>HelloFlex</th>\n",
       "      <th>Unnamed: 4</th>\n",
       "      <th>CAOWijzer</th>\n",
       "      <th>Unnamed: 6</th>\n",
       "      <th>MatchQ</th>\n",
       "    </tr>\n",
       "  </thead>\n",
       "  <tbody>\n",
       "    <tr>\n",
       "      <th>0</th>\n",
       "      <td>NaN</td>\n",
       "      <td>NaN</td>\n",
       "      <td>NaN</td>\n",
       "      <td>NaN</td>\n",
       "      <td>NaN</td>\n",
       "      <td>NaN</td>\n",
       "      <td>NaN</td>\n",
       "      <td>NaN</td>\n",
       "    </tr>\n",
       "    <tr>\n",
       "      <th>1</th>\n",
       "      <td>Nummer</td>\n",
       "      <td>Naam</td>\n",
       "      <td>Nummer</td>\n",
       "      <td>Naam</td>\n",
       "      <td>Nummer</td>\n",
       "      <td>Naam</td>\n",
       "      <td>Nummer</td>\n",
       "      <td>Naam</td>\n",
       "    </tr>\n",
       "    <tr>\n",
       "      <th>2</th>\n",
       "      <td>12556</td>\n",
       "      <td>Actacom Nederland B.V.</td>\n",
       "      <td>110722</td>\n",
       "      <td>@Work Personeelsdiensten B.V.</td>\n",
       "      <td>12152</td>\n",
       "      <td>365Werk</td>\n",
       "      <td>12431</td>\n",
       "      <td>Arto Recruitment B.V.</td>\n",
       "    </tr>\n",
       "    <tr>\n",
       "      <th>3</th>\n",
       "      <td>12594</td>\n",
       "      <td>AskAnna B.V.</td>\n",
       "      <td>111481</td>\n",
       "      <td>3S People B.V.</td>\n",
       "      <td>12248</td>\n",
       "      <td>A.W. Personeelsdiensten BV</td>\n",
       "      <td>12578</td>\n",
       "      <td>BC Group B.V.</td>\n",
       "    </tr>\n",
       "    <tr>\n",
       "      <th>4</th>\n",
       "      <td>12471</td>\n",
       "      <td>Blauw Belastingen bv</td>\n",
       "      <td>11274</td>\n",
       "      <td>4-Hands Uitzendbureau</td>\n",
       "      <td>12121</td>\n",
       "      <td>A2 Newjob</td>\n",
       "      <td>12334</td>\n",
       "      <td>Building Careers BV</td>\n",
       "    </tr>\n",
       "    <tr>\n",
       "      <th>...</th>\n",
       "      <td>...</td>\n",
       "      <td>...</td>\n",
       "      <td>...</td>\n",
       "      <td>...</td>\n",
       "      <td>...</td>\n",
       "      <td>...</td>\n",
       "      <td>...</td>\n",
       "      <td>...</td>\n",
       "    </tr>\n",
       "    <tr>\n",
       "      <th>449</th>\n",
       "      <td>NaN</td>\n",
       "      <td>NaN</td>\n",
       "      <td>12667</td>\n",
       "      <td>Q Work B.V.</td>\n",
       "      <td>NaN</td>\n",
       "      <td>NaN</td>\n",
       "      <td>NaN</td>\n",
       "      <td>NaN</td>\n",
       "    </tr>\n",
       "    <tr>\n",
       "      <th>450</th>\n",
       "      <td>NaN</td>\n",
       "      <td>NaN</td>\n",
       "      <td>111322</td>\n",
       "      <td>WPN Groep B.V.</td>\n",
       "      <td>NaN</td>\n",
       "      <td>NaN</td>\n",
       "      <td>NaN</td>\n",
       "      <td>NaN</td>\n",
       "    </tr>\n",
       "    <tr>\n",
       "      <th>451</th>\n",
       "      <td>NaN</td>\n",
       "      <td>NaN</td>\n",
       "      <td>12716</td>\n",
       "      <td>The Flex Agency B.V.</td>\n",
       "      <td>NaN</td>\n",
       "      <td>NaN</td>\n",
       "      <td>NaN</td>\n",
       "      <td>NaN</td>\n",
       "    </tr>\n",
       "    <tr>\n",
       "      <th>452</th>\n",
       "      <td>NaN</td>\n",
       "      <td>NaN</td>\n",
       "      <td>12722</td>\n",
       "      <td>STAN Partnerships B.V.</td>\n",
       "      <td>NaN</td>\n",
       "      <td>NaN</td>\n",
       "      <td>NaN</td>\n",
       "      <td>NaN</td>\n",
       "    </tr>\n",
       "    <tr>\n",
       "      <th>453</th>\n",
       "      <td>NaN</td>\n",
       "      <td>NaN</td>\n",
       "      <td>12724</td>\n",
       "      <td>Public Support Services B.V.</td>\n",
       "      <td>NaN</td>\n",
       "      <td>NaN</td>\n",
       "      <td>NaN</td>\n",
       "      <td>NaN</td>\n",
       "    </tr>\n",
       "  </tbody>\n",
       "</table>\n",
       "<p>454 rows × 8 columns</p>\n",
       "</div>"
      ],
      "text/plain": [
       "    Unnamed: 0              SharpMinds Unnamed: 2  \\\n",
       "0          NaN                     NaN        NaN   \n",
       "1       Nummer                    Naam     Nummer   \n",
       "2        12556  Actacom Nederland B.V.     110722   \n",
       "3        12594            AskAnna B.V.     111481   \n",
       "4        12471    Blauw Belastingen bv      11274   \n",
       "..         ...                     ...        ...   \n",
       "449        NaN                     NaN      12667   \n",
       "450        NaN                     NaN     111322   \n",
       "451        NaN                     NaN      12716   \n",
       "452        NaN                     NaN      12722   \n",
       "453        NaN                     NaN      12724   \n",
       "\n",
       "                         HelloFlex Unnamed: 4                   CAOWijzer  \\\n",
       "0                              NaN        NaN                         NaN   \n",
       "1                             Naam     Nummer                        Naam   \n",
       "2    @Work Personeelsdiensten B.V.      12152                     365Werk   \n",
       "3                   3S People B.V.      12248  A.W. Personeelsdiensten BV   \n",
       "4            4-Hands Uitzendbureau      12121                   A2 Newjob   \n",
       "..                             ...        ...                         ...   \n",
       "449                    Q Work B.V.        NaN                         NaN   \n",
       "450                 WPN Groep B.V.        NaN                         NaN   \n",
       "451           The Flex Agency B.V.        NaN                         NaN   \n",
       "452         STAN Partnerships B.V.        NaN                         NaN   \n",
       "453   Public Support Services B.V.        NaN                         NaN   \n",
       "\n",
       "    Unnamed: 6                 MatchQ  \n",
       "0          NaN                    NaN  \n",
       "1       Nummer                   Naam  \n",
       "2        12431  Arto Recruitment B.V.  \n",
       "3        12578          BC Group B.V.  \n",
       "4        12334    Building Careers BV  \n",
       "..         ...                    ...  \n",
       "449        NaN                    NaN  \n",
       "450        NaN                    NaN  \n",
       "451        NaN                    NaN  \n",
       "452        NaN                    NaN  \n",
       "453        NaN                    NaN  \n",
       "\n",
       "[454 rows x 8 columns]"
      ]
     },
     "execution_count": 35,
     "metadata": {},
     "output_type": "execute_result"
    }
   ],
   "source": [
    "df"
   ]
  },
  {
   "cell_type": "code",
   "execution_count": 18,
   "id": "regular-mississippi",
   "metadata": {},
   "outputs": [],
   "source": [
    "# number of columns in your dataframe\n",
    "number_of_columns = len(df.columns)\n",
    "\n",
    "# store the split dataframes in a list\n",
    "split_dfs = []\n",
    "\n",
    "# loop over column indexes with step size 2\n",
    "for i in range(0, number_of_columns, 2):\n",
    "    split_dfs.append(df.iloc[:, [i,i+1]])"
   ]
  },
  {
   "cell_type": "code",
   "execution_count": 23,
   "id": "ultimate-domain",
   "metadata": {},
   "outputs": [],
   "source": [
    "split_dfs = [d.drop(labels=[0,1], axis=0) for d in split_dfs]"
   ]
  },
  {
   "cell_type": "code",
   "execution_count": 28,
   "id": "complicated-voice",
   "metadata": {},
   "outputs": [],
   "source": [
    "split_dfs = [d.dropna() for d in split_dfs]"
   ]
  },
  {
   "cell_type": "code",
   "execution_count": 29,
   "id": "fancy-credit",
   "metadata": {},
   "outputs": [
    {
     "data": {
      "text/plain": [
       "'SharpMinds'"
      ]
     },
     "execution_count": 29,
     "metadata": {},
     "output_type": "execute_result"
    }
   ],
   "source": [
    "first_df = split_dfs[0]\n",
    "first_df.columns.to_list()[1]"
   ]
  },
  {
   "cell_type": "code",
   "execution_count": 31,
   "id": "greater-characteristic",
   "metadata": {},
   "outputs": [
    {
     "name": "stdout",
     "output_type": "stream",
     "text": [
      "Actacom Nederland B.V.\n",
      "AskAnna B.V.\n",
      "Blauw Belastingen bv\n",
      "Blue Donkey Media B.V.\n",
      "BusinessForensics B.V.\n",
      "Ctrl B.V.\n",
      "Ecomatters\n",
      "Freelancer BV\n",
      "FutureWhiz Media BV\n",
      "GlobalOrange B.V.\n",
      "Integral Knowledge Utilization BV\n",
      "Skydreams\n",
      "Sparkles B.V.\n",
      "Tintel B.V.\n",
      "TripleMotion Media B.V.\n",
      "Soulve Innovations B.V.\n",
      "Delivery Excellence B.V.\n",
      "RelyOn Nutec Digital B.V.\n",
      "BeFound Media B.V.\n"
     ]
    }
   ],
   "source": [
    "for index, row in first_df.iterrows():\n",
    "    print(row[1])"
   ]
  },
  {
   "cell_type": "code",
   "execution_count": 6,
   "id": "searching-parliament",
   "metadata": {},
   "outputs": [],
   "source": [
    "df = df.drop(labels=[0, 1], axis=0)\n",
    "df = df.where(pd.notnull(df), None)"
   ]
  },
  {
   "cell_type": "code",
   "execution_count": 32,
   "id": "senior-miracle",
   "metadata": {},
   "outputs": [
    {
     "data": {
      "text/html": [
       "<div>\n",
       "<style scoped>\n",
       "    .dataframe tbody tr th:only-of-type {\n",
       "        vertical-align: middle;\n",
       "    }\n",
       "\n",
       "    .dataframe tbody tr th {\n",
       "        vertical-align: top;\n",
       "    }\n",
       "\n",
       "    .dataframe thead th {\n",
       "        text-align: right;\n",
       "    }\n",
       "</style>\n",
       "<table border=\"1\" class=\"dataframe\">\n",
       "  <thead>\n",
       "    <tr style=\"text-align: right;\">\n",
       "      <th></th>\n",
       "      <th>Unnamed: 0</th>\n",
       "      <th>SharpMinds</th>\n",
       "      <th>Unnamed: 2</th>\n",
       "      <th>HelloFlex</th>\n",
       "      <th>Unnamed: 4</th>\n",
       "      <th>CAOWijzer</th>\n",
       "      <th>Unnamed: 6</th>\n",
       "      <th>MatchQ</th>\n",
       "    </tr>\n",
       "  </thead>\n",
       "  <tbody>\n",
       "    <tr>\n",
       "      <th>0</th>\n",
       "      <td>NaN</td>\n",
       "      <td>NaN</td>\n",
       "      <td>NaN</td>\n",
       "      <td>NaN</td>\n",
       "      <td>NaN</td>\n",
       "      <td>NaN</td>\n",
       "      <td>NaN</td>\n",
       "      <td>NaN</td>\n",
       "    </tr>\n",
       "    <tr>\n",
       "      <th>1</th>\n",
       "      <td>Nummer</td>\n",
       "      <td>Naam</td>\n",
       "      <td>Nummer</td>\n",
       "      <td>Naam</td>\n",
       "      <td>Nummer</td>\n",
       "      <td>Naam</td>\n",
       "      <td>Nummer</td>\n",
       "      <td>Naam</td>\n",
       "    </tr>\n",
       "    <tr>\n",
       "      <th>2</th>\n",
       "      <td>12556</td>\n",
       "      <td>Actacom Nederland B.V.</td>\n",
       "      <td>110722</td>\n",
       "      <td>@Work Personeelsdiensten B.V.</td>\n",
       "      <td>12152</td>\n",
       "      <td>365Werk</td>\n",
       "      <td>12431</td>\n",
       "      <td>Arto Recruitment B.V.</td>\n",
       "    </tr>\n",
       "    <tr>\n",
       "      <th>3</th>\n",
       "      <td>12594</td>\n",
       "      <td>AskAnna B.V.</td>\n",
       "      <td>111481</td>\n",
       "      <td>3S People B.V.</td>\n",
       "      <td>12248</td>\n",
       "      <td>A.W. Personeelsdiensten BV</td>\n",
       "      <td>12578</td>\n",
       "      <td>BC Group B.V.</td>\n",
       "    </tr>\n",
       "    <tr>\n",
       "      <th>4</th>\n",
       "      <td>12471</td>\n",
       "      <td>Blauw Belastingen bv</td>\n",
       "      <td>11274</td>\n",
       "      <td>4-Hands Uitzendbureau</td>\n",
       "      <td>12121</td>\n",
       "      <td>A2 Newjob</td>\n",
       "      <td>12334</td>\n",
       "      <td>Building Careers BV</td>\n",
       "    </tr>\n",
       "    <tr>\n",
       "      <th>...</th>\n",
       "      <td>...</td>\n",
       "      <td>...</td>\n",
       "      <td>...</td>\n",
       "      <td>...</td>\n",
       "      <td>...</td>\n",
       "      <td>...</td>\n",
       "      <td>...</td>\n",
       "      <td>...</td>\n",
       "    </tr>\n",
       "    <tr>\n",
       "      <th>449</th>\n",
       "      <td>NaN</td>\n",
       "      <td>NaN</td>\n",
       "      <td>12667</td>\n",
       "      <td>Q Work B.V.</td>\n",
       "      <td>NaN</td>\n",
       "      <td>NaN</td>\n",
       "      <td>NaN</td>\n",
       "      <td>NaN</td>\n",
       "    </tr>\n",
       "    <tr>\n",
       "      <th>450</th>\n",
       "      <td>NaN</td>\n",
       "      <td>NaN</td>\n",
       "      <td>111322</td>\n",
       "      <td>WPN Groep B.V.</td>\n",
       "      <td>NaN</td>\n",
       "      <td>NaN</td>\n",
       "      <td>NaN</td>\n",
       "      <td>NaN</td>\n",
       "    </tr>\n",
       "    <tr>\n",
       "      <th>451</th>\n",
       "      <td>NaN</td>\n",
       "      <td>NaN</td>\n",
       "      <td>12716</td>\n",
       "      <td>The Flex Agency B.V.</td>\n",
       "      <td>NaN</td>\n",
       "      <td>NaN</td>\n",
       "      <td>NaN</td>\n",
       "      <td>NaN</td>\n",
       "    </tr>\n",
       "    <tr>\n",
       "      <th>452</th>\n",
       "      <td>NaN</td>\n",
       "      <td>NaN</td>\n",
       "      <td>12722</td>\n",
       "      <td>STAN Partnerships B.V.</td>\n",
       "      <td>NaN</td>\n",
       "      <td>NaN</td>\n",
       "      <td>NaN</td>\n",
       "      <td>NaN</td>\n",
       "    </tr>\n",
       "    <tr>\n",
       "      <th>453</th>\n",
       "      <td>NaN</td>\n",
       "      <td>NaN</td>\n",
       "      <td>12724</td>\n",
       "      <td>Public Support Services B.V.</td>\n",
       "      <td>NaN</td>\n",
       "      <td>NaN</td>\n",
       "      <td>NaN</td>\n",
       "      <td>NaN</td>\n",
       "    </tr>\n",
       "  </tbody>\n",
       "</table>\n",
       "<p>454 rows × 8 columns</p>\n",
       "</div>"
      ],
      "text/plain": [
       "    Unnamed: 0              SharpMinds Unnamed: 2  \\\n",
       "0          NaN                     NaN        NaN   \n",
       "1       Nummer                    Naam     Nummer   \n",
       "2        12556  Actacom Nederland B.V.     110722   \n",
       "3        12594            AskAnna B.V.     111481   \n",
       "4        12471    Blauw Belastingen bv      11274   \n",
       "..         ...                     ...        ...   \n",
       "449        NaN                     NaN      12667   \n",
       "450        NaN                     NaN     111322   \n",
       "451        NaN                     NaN      12716   \n",
       "452        NaN                     NaN      12722   \n",
       "453        NaN                     NaN      12724   \n",
       "\n",
       "                         HelloFlex Unnamed: 4                   CAOWijzer  \\\n",
       "0                              NaN        NaN                         NaN   \n",
       "1                             Naam     Nummer                        Naam   \n",
       "2    @Work Personeelsdiensten B.V.      12152                     365Werk   \n",
       "3                   3S People B.V.      12248  A.W. Personeelsdiensten BV   \n",
       "4            4-Hands Uitzendbureau      12121                   A2 Newjob   \n",
       "..                             ...        ...                         ...   \n",
       "449                    Q Work B.V.        NaN                         NaN   \n",
       "450                 WPN Groep B.V.        NaN                         NaN   \n",
       "451           The Flex Agency B.V.        NaN                         NaN   \n",
       "452         STAN Partnerships B.V.        NaN                         NaN   \n",
       "453   Public Support Services B.V.        NaN                         NaN   \n",
       "\n",
       "    Unnamed: 6                 MatchQ  \n",
       "0          NaN                    NaN  \n",
       "1       Nummer                   Naam  \n",
       "2        12431  Arto Recruitment B.V.  \n",
       "3        12578          BC Group B.V.  \n",
       "4        12334    Building Careers BV  \n",
       "..         ...                    ...  \n",
       "449        NaN                    NaN  \n",
       "450        NaN                    NaN  \n",
       "451        NaN                    NaN  \n",
       "452        NaN                    NaN  \n",
       "453        NaN                    NaN  \n",
       "\n",
       "[454 rows x 8 columns]"
      ]
     },
     "execution_count": 32,
     "metadata": {},
     "output_type": "execute_result"
    }
   ],
   "source": [
    "df"
   ]
  },
  {
   "cell_type": "code",
   "execution_count": 5,
   "id": "optical-adrian",
   "metadata": {},
   "outputs": [],
   "source": [
    "company1 = 'Ecomatters'\n",
    "company2 = 'Blauw Belastingen bv'"
   ]
  },
  {
   "cell_type": "code",
   "execution_count": 6,
   "id": "blessed-traffic",
   "metadata": {},
   "outputs": [],
   "source": [
    "names = [' B.V.', ' BV', ' N.V.', ' NV', ' bv']\n",
    "def strip_name(string: str) -> str:\n",
    "    for n in names:\n",
    "        if n in string:\n",
    "            return string[:string.index(n)]"
   ]
  },
  {
   "cell_type": "code",
   "execution_count": 7,
   "id": "agreed-peninsula",
   "metadata": {},
   "outputs": [
    {
     "data": {
      "text/plain": [
       "'Blauw Belastingen'"
      ]
     },
     "execution_count": 7,
     "metadata": {},
     "output_type": "execute_result"
    }
   ],
   "source": [
    "strip_name(company2)"
   ]
  },
  {
   "cell_type": "code",
   "execution_count": 1,
   "id": "consolidated-revelation",
   "metadata": {},
   "outputs": [],
   "source": [
    "with open('Voltooid.txt', 'r+') as file:\n",
    "    data = file.read().splitlines()"
   ]
  },
  {
   "cell_type": "code",
   "execution_count": 2,
   "id": "current-rating",
   "metadata": {},
   "outputs": [
    {
     "data": {
      "text/plain": [
       "['Actacom Nederland',\n",
       " 'AskAnna',\n",
       " 'Blauw Belastingen',\n",
       " 'Blue Donkey Media',\n",
       " 'BusinessForensics',\n",
       " 'Ctrl',\n",
       " 'Ecomatters']"
      ]
     },
     "execution_count": 2,
     "metadata": {},
     "output_type": "execute_result"
    }
   ],
   "source": [
    "data"
   ]
  },
  {
   "cell_type": "code",
   "execution_count": 65,
   "id": "demonstrated-scholar",
   "metadata": {},
   "outputs": [
    {
     "name": "stdout",
     "output_type": "stream",
     "text": [
      "found\n"
     ]
    }
   ],
   "source": [
    "for d in data:\n",
    "    if d == company1:\n",
    "        print('found')"
   ]
  },
  {
   "cell_type": "code",
   "execution_count": 8,
   "id": "advanced-eclipse",
   "metadata": {},
   "outputs": [],
   "source": [
    "test = 'Blauw Belastingen bv'"
   ]
  },
  {
   "cell_type": "code",
   "execution_count": 9,
   "id": "unlikely-joshua",
   "metadata": {},
   "outputs": [
    {
     "data": {
      "text/plain": [
       "True"
      ]
     },
     "execution_count": 9,
     "metadata": {},
     "output_type": "execute_result"
    }
   ],
   "source": [
    "' bv' in test"
   ]
  }
 ],
 "metadata": {
  "kernelspec": {
   "display_name": "Python 3",
   "language": "python",
   "name": "python3"
  },
  "language_info": {
   "codemirror_mode": {
    "name": "ipython",
    "version": 3
   },
   "file_extension": ".py",
   "mimetype": "text/x-python",
   "name": "python",
   "nbconvert_exporter": "python",
   "pygments_lexer": "ipython3",
   "version": "3.9.1"
  }
 },
 "nbformat": 4,
 "nbformat_minor": 5
}
